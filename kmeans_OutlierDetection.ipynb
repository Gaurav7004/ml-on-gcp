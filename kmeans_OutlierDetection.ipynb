{
  "nbformat": 4,
  "nbformat_minor": 0,
  "metadata": {
    "colab": {
      "name": "kmeans_OutlierDetection.ipynb",
      "provenance": [],
      "collapsed_sections": [],
      "authorship_tag": "ABX9TyM6R9YkB6LnbFQckZg/jCTj",
      "include_colab_link": true
    },
    "kernelspec": {
      "display_name": "Python 3",
      "name": "python3"
    }
  },
  "cells": [
    {
      "cell_type": "markdown",
      "metadata": {
        "id": "view-in-github",
        "colab_type": "text"
      },
      "source": [
        "<a href=\"https://colab.research.google.com/github/Gaurav7004/ml-on-gcp/blob/master/kmeans_OutlierDetection.ipynb\" target=\"_parent\"><img src=\"https://colab.research.google.com/assets/colab-badge.svg\" alt=\"Open In Colab\"/></a>"
      ]
    },
    {
      "cell_type": "code",
      "metadata": {
        "id": "KMPRBwsJnCJN"
      },
      "source": [
        "# # Set a seed value\n",
        "# seed_value= 123\n",
        "\n",
        "# # 1. Set `PYTHONHASHSEED` environment variable at a fixed value\n",
        "# import os\n",
        "# os.environ['PYTHONHASHSEED']=str(seed_value)\n",
        "\n",
        "# # 2. Set `python` built-in pseudo-random generator at a fixed value\n",
        "# import random\n",
        "# random.seed(seed_value)\n",
        "\n",
        "# # 3. Set `numpy` pseudo-random generator at a fixed value\n",
        "# import numpy as np\n",
        "# np.random.seed(seed_value)"
      ],
      "execution_count": 1,
      "outputs": []
    },
    {
      "cell_type": "code",
      "metadata": {
        "id": "zZRzY9RyAqie"
      },
      "source": [
        "import numpy as np\n",
        "import pandas as pd"
      ],
      "execution_count": 2,
      "outputs": []
    },
    {
      "cell_type": "code",
      "metadata": {
        "colab": {
          "base_uri": "https://localhost:8080/"
        },
        "id": "HBrpZ0zZBqj3",
        "outputId": "6fe382c3-1929-4105-8659-b4817dcfb161"
      },
      "source": [
        "from pandas import read_csv\n",
        "from matplotlib import pyplot as plt\n",
        "from sklearn.datasets.samples_generator import make_blobs\n",
        "from sklearn.metrics import silhouette_score\n",
        "from sklearn.cluster import KMeans"
      ],
      "execution_count": 3,
      "outputs": [
        {
          "output_type": "stream",
          "text": [
            "/usr/local/lib/python3.6/dist-packages/sklearn/utils/deprecation.py:144: FutureWarning: The sklearn.datasets.samples_generator module is  deprecated in version 0.22 and will be removed in version 0.24. The corresponding classes / functions should instead be imported from sklearn.datasets. Anything that cannot be imported from sklearn.datasets is now part of the private API.\n",
            "  warnings.warn(message, FutureWarning)\n"
          ],
          "name": "stderr"
        }
      ]
    },
    {
      "cell_type": "code",
      "metadata": {
        "colab": {
          "base_uri": "https://localhost:8080/"
        },
        "id": "TyJOEVGDHscM",
        "outputId": "81d5f063-472e-4f59-e28e-097e9cdd7138"
      },
      "source": [
        "# load the dataset\n",
        "df = read_csv('NFHS_Outliers.csv')\n",
        "df.shape"
      ],
      "execution_count": 4,
      "outputs": [
        {
          "output_type": "execute_result",
          "data": {
            "text/plain": [
              "(342, 7)"
            ]
          },
          "metadata": {
            "tags": []
          },
          "execution_count": 4
        }
      ]
    },
    {
      "cell_type": "code",
      "metadata": {
        "colab": {
          "base_uri": "https://localhost:8080/"
        },
        "id": "tuguZQGyJeK0",
        "outputId": "d481a521-8a81-4ab5-fc9f-327c8d1f8b10"
      },
      "source": [
        "# retrieve the array\n",
        "data = df.values\n",
        "\n",
        "X, y = df[['v21', 'v15', 'v30', 'v31', 'v32']], df[['v15', 'v30', 'v31', 'v32']]\n",
        "X.shape"
      ],
      "execution_count": 5,
      "outputs": [
        {
          "output_type": "execute_result",
          "data": {
            "text/plain": [
              "(342, 5)"
            ]
          },
          "metadata": {
            "tags": []
          },
          "execution_count": 5
        }
      ]
    },
    {
      "cell_type": "code",
      "metadata": {
        "id": "3MHN2AVSJi1O"
      },
      "source": [
        "# X = X.values\n",
        "# y = y.values\n",
        "\n"
      ],
      "execution_count": 6,
      "outputs": []
    },
    {
      "cell_type": "code",
      "metadata": {
        "colab": {
          "base_uri": "https://localhost:8080/"
        },
        "id": "olzhoffSOG9l",
        "outputId": "fa794427-d8af-4e0b-8e9b-777adfc7384e"
      },
      "source": [
        "#k = [2,3,4,5,6,7,8,9,10,11,12,13,14,15,16,17,18,19,20]\n",
        "k = [7]\n",
        "score = []\n",
        "\n",
        "for n_cluster in k:\n",
        "  kmeans = KMeans(n_clusters=n_cluster).fit(X)\n",
        "  silhouette_avg = silhouette_score(X, kmeans.labels_)\n",
        "  score.append(silhouette_score(X, kmeans.labels_))\n",
        "  print('silhouette_score for %i Clusters = %0.4f' % (n_cluster, silhouette_avg))\n",
        "\n",
        "dictionary = dict(zip(k, score))\n",
        "\n",
        "\n",
        "k1 = [key for (key, value) in dictionary.items() if value == max(dictionary.values())]\n",
        "\n",
        "k = k1[0]\n",
        "k\n",
        "# k = np.max(score)\n"
      ],
      "execution_count": 23,
      "outputs": [
        {
          "output_type": "stream",
          "text": [
            "silhouette_score for 7 Clusters = 0.3481\n"
          ],
          "name": "stdout"
        },
        {
          "output_type": "execute_result",
          "data": {
            "text/plain": [
              "7"
            ]
          },
          "metadata": {
            "tags": []
          },
          "execution_count": 23
        }
      ]
    },
    {
      "cell_type": "code",
      "metadata": {
        "colab": {
          "base_uri": "https://localhost:8080/",
          "height": 265
        },
        "id": "qBaKr4Q0P8hx",
        "outputId": "fad6764e-f4ba-4293-b6cc-57f71a781eed"
      },
      "source": [
        "\n",
        "for centers in k1:\n",
        "  X, y = make_blobs(n_samples=342, centers=centers, cluster_std=0.60, random_state=0)\n",
        "  plt.scatter(X[:,0], X[:,1], c=kmeans.labels_.astype(float))\n",
        "  plt.scatter(kmeans.cluster_centers_[:,0] ,kmeans.cluster_centers_[:,1], color='red')\n",
        "\n",
        "\n"
      ],
      "execution_count": 24,
      "outputs": [
        {
          "output_type": "display_data",
          "data": {
            "image/png": "[encoded data removed]",
            "text/plain": [
              "<Figure size 432x288 with 1 Axes>"
            ]
          },
          "metadata": {
            "tags": [],
            "needs_background": "light"
          }
        }
      ]
    },
    {
      "cell_type": "code",
      "metadata": {
        "id": "fLyEGiAsJmyd",
        "colab": {
          "base_uri": "https://localhost:8080/"
        },
        "outputId": "c8f793a8-b4e5-4fcd-c43e-67a66f7490fe"
      },
      "source": [
        "kmeans = KMeans().fit(X)\n",
        "print(len(X))\n",
        "Total_Values = len(X)\n",
        "# y_kmeans = kmeans.predict(X)\n",
        "# print(y_kmeans)"
      ],
      "execution_count": 9,
      "outputs": [
        {
          "output_type": "stream",
          "text": [
            "342\n"
          ],
          "name": "stdout"
        }
      ]
    },
    {
      "cell_type": "code",
      "metadata": {
        "id": "XlA7hQTFKbGn"
      },
      "source": [
        "#empty dictionaries\n",
        "from sklearn.base import BaseEstimator\n",
        "clusters_centroids=dict()\n",
        "clusters_radii= dict()\n",
        "\n",
        "# finding cluster radii ans cluster centroids\n",
        "for cluster in list(set(y)):\n",
        "    clusters_centroids[cluster]=list(zip(kmeans.cluster_centers_[:, 0],kmeans.cluster_centers_[:,1]))[cluster]\n",
        "    clusters_radii[cluster] = max([np.linalg.norm(np.subtract(i,clusters_centroids[cluster])) for i in zip(X[y == cluster, 0],X[y == cluster, 1])])\n",
        "    "
      ],
      "execution_count": 10,
      "outputs": []
    },
    {
      "cell_type": "code",
      "metadata": {
        "colab": {
          "base_uri": "https://localhost:8080/"
        },
        "id": "ZbWNjjuMmG59",
        "outputId": "b7447da7-58e6-4db4-fc58-5f9b28f53254"
      },
      "source": [
        "list(set(y))"
      ],
      "execution_count": 11,
      "outputs": [
        {
          "output_type": "execute_result",
          "data": {
            "text/plain": [
              "[0, 1]"
            ]
          },
          "metadata": {
            "tags": []
          },
          "execution_count": 11
        }
      ]
    },
    {
      "cell_type": "code",
      "metadata": {
        "id": "oT9bUR5MbUh7",
        "colab": {
          "base_uri": "https://localhost:8080/"
        },
        "outputId": "61df25b4-dcf2-4bad-dc05-0a9181125082"
      },
      "source": [
        "clusters_radii"
      ],
      "execution_count": 12,
      "outputs": [
        {
          "output_type": "execute_result",
          "data": {
            "text/plain": [
              "{0: 2.0760561805563458, 1: 2.3121240739631235}"
            ]
          },
          "metadata": {
            "tags": []
          },
          "execution_count": 12
        }
      ]
    },
    {
      "cell_type": "code",
      "metadata": {
        "id": "4AFAQLXEosjP",
        "colab": {
          "base_uri": "https://localhost:8080/"
        },
        "outputId": "efe736b8-a9e6-48e4-8c70-9c614f6dfe28"
      },
      "source": [
        "clusters_centroids"
      ],
      "execution_count": 13,
      "outputs": [
        {
          "output_type": "execute_result",
          "data": {
            "text/plain": [
              "{0: (1.4562600849559346, 4.619240421668909),\n",
              " 1: (1.3616647157629043, 0.7929937766916924)}"
            ]
          },
          "metadata": {
            "tags": []
          },
          "execution_count": 13
        }
      ]
    },
    {
      "cell_type": "code",
      "metadata": {
        "colab": {
          "base_uri": "https://localhost:8080/"
        },
        "id": "t0lnz_YRIjwN",
        "outputId": "5db22f6c-ae21-466e-913c-ccca0df859e3"
      },
      "source": [
        "kmeans.cluster_centers_"
      ],
      "execution_count": 14,
      "outputs": [
        {
          "output_type": "execute_result",
          "data": {
            "text/plain": [
              "array([[ 1.45626008,  4.61924042],\n",
              "       [ 1.36166472,  0.79299378],\n",
              "       [ 1.53280319,  3.62637175],\n",
              "       [ 2.1203354 ,  1.45886487],\n",
              "       [ 1.98034179, -0.02251794],\n",
              "       [ 0.59138084,  3.94563047],\n",
              "       [ 2.64921365,  0.89240417],\n",
              "       [ 0.39284209,  4.94508219]])"
            ]
          },
          "metadata": {
            "tags": []
          },
          "execution_count": 14
        }
      ]
    },
    {
      "cell_type": "code",
      "metadata": {
        "colab": {
          "base_uri": "https://localhost:8080/"
        },
        "id": "c3ZXr-tUqPUf",
        "outputId": "5d5b8654-a489-4a96-96df-86aeb27e2bbf"
      },
      "source": [
        "# number of points in respective clusters\n",
        "my_dict = {kmeans.cluster_centers_[i, 0]: np.where(kmeans.labels_ == i)[0] for i in range(kmeans.n_clusters)}\n",
        "my_dict"
      ],
      "execution_count": 15,
      "outputs": [
        {
          "output_type": "execute_result",
          "data": {
            "text/plain": [
              "{0.3928420850406207: array([  6,  14,  24,  30,  33,  36,  46,  53,  86,  95, 103, 121, 122,\n",
              "        128, 134, 137, 146, 147, 152, 154, 163, 166, 180, 211, 223, 233,\n",
              "        238, 240, 258, 268, 272, 278, 282, 289, 290, 297, 316, 322, 328,\n",
              "        335, 339, 340]),\n",
              " 0.5913808396004339: array([  3,  11,  15,  25,  28,  35,  58,  59,  60,  71,  72,  76,  83,\n",
              "         88, 114, 120, 125, 130, 131, 138, 144, 145, 156, 160, 161, 167,\n",
              "        173, 175, 181, 182, 186, 190, 194, 199, 205, 219, 226, 230, 234,\n",
              "        245, 252, 266, 270, 275, 280, 295, 298, 301, 303, 312, 313, 314,\n",
              "        318, 320, 323, 326, 329]),\n",
              " 1.3616647157629043: array([  7,  12,  13,  18,  19,  21,  47,  51,  61,  64,  65,  66,  78,\n",
              "         81,  97, 102, 105, 108, 111, 113, 116, 119, 123, 127, 132, 135,\n",
              "        142, 149, 159, 164, 170, 174, 184, 191, 192, 198, 220, 231, 249,\n",
              "        250, 251, 260, 261, 262, 271, 294, 296, 317, 319, 331, 341]),\n",
              " 1.4562600849559346: array([  0,   1,   4,   8,  10,  16,  20,  26,  34,  42,  44,  48,  52,\n",
              "         75,  84,  91,  92, 106, 115, 117, 118, 126, 133, 141, 155, 177,\n",
              "        183, 188, 189, 212, 217, 222, 224, 227, 229, 254, 255, 257, 264,\n",
              "        273, 281, 284, 285, 299, 308, 325, 330, 334]),\n",
              " 1.5328031862755718: array([  2,  23,  27,  29,  31,  55,  57,  77,  79, 112, 143, 165, 176,\n",
              "        197, 202, 218, 221, 235, 244, 277, 286, 309, 310, 337]),\n",
              " 1.9803417928494305: array([  9,  17,  41,  43,  45,  50,  56,  70,  73,  82,  85,  98, 100,\n",
              "        104, 109, 110, 129, 139, 140, 151, 187, 201, 204, 206, 232, 236,\n",
              "        239, 242, 248, 267, 269, 288, 302, 307, 324, 327, 332]),\n",
              " 2.1203354034643693: array([  5,  37,  38,  39,  49,  54,  89,  90,  93,  94,  96, 101, 124,\n",
              "        136, 148, 153, 157, 168, 169, 172, 178, 179, 195, 215, 216, 225,\n",
              "        228, 241, 247, 253, 259, 263, 276, 283, 287, 291, 292, 293, 311,\n",
              "        315, 321, 336]),\n",
              " 2.6492136524645495: array([ 22,  32,  40,  62,  63,  67,  68,  69,  74,  80,  87,  99, 107,\n",
              "        150, 158, 162, 171, 185, 193, 196, 200, 203, 207, 208, 209, 210,\n",
              "        213, 214, 237, 243, 246, 256, 265, 274, 279, 300, 304, 305, 306,\n",
              "        333, 338])}"
            ]
          },
          "metadata": {
            "tags": []
          },
          "execution_count": 15
        }
      ]
    },
    {
      "cell_type": "code",
      "metadata": {
        "colab": {
          "base_uri": "https://localhost:8080/",
          "height": 202
        },
        "id": "nDuv6Bg1KcWu",
        "outputId": "38c1f1ac-b694-4fac-b7c6-f09df556ba4c"
      },
      "source": [
        "# distance from centroid\n",
        "X_dist = kmeans.transform(X)\n",
        "\n",
        "df = pd.DataFrame(X_dist.sum(axis=1).round(2), columns=['sqdist'])\n",
        "df['label'] = kmeans.labels_\n",
        "\n",
        "df.head(5)\n"
      ],
      "execution_count": 16,
      "outputs": [
        {
          "output_type": "execute_result",
          "data": {
            "text/html": [
              "<div>\n",
              "<style scoped>\n",
              "    .dataframe tbody tr th:only-of-type {\n",
              "        vertical-align: middle;\n",
              "    }\n",
              "\n",
              "    .dataframe tbody tr th {\n",
              "        vertical-align: top;\n",
              "    }\n",
              "\n",
              "    .dataframe thead th {\n",
              "        text-align: right;\n",
              "    }\n",
              "</style>\n",
              "<table border=\"1\" class=\"dataframe\">\n",
              "  <thead>\n",
              "    <tr style=\"text-align: right;\">\n",
              "      <th></th>\n",
              "      <th>sqdist</th>\n",
              "      <th>label</th>\n",
              "    </tr>\n",
              "  </thead>\n",
              "  <tbody>\n",
              "    <tr>\n",
              "      <th>0</th>\n",
              "      <td>17.18</td>\n",
              "      <td>0</td>\n",
              "    </tr>\n",
              "    <tr>\n",
              "      <th>1</th>\n",
              "      <td>17.11</td>\n",
              "      <td>0</td>\n",
              "    </tr>\n",
              "    <tr>\n",
              "      <th>2</th>\n",
              "      <td>16.83</td>\n",
              "      <td>2</td>\n",
              "    </tr>\n",
              "    <tr>\n",
              "      <th>3</th>\n",
              "      <td>18.25</td>\n",
              "      <td>5</td>\n",
              "    </tr>\n",
              "    <tr>\n",
              "      <th>4</th>\n",
              "      <td>20.53</td>\n",
              "      <td>0</td>\n",
              "    </tr>\n",
              "  </tbody>\n",
              "</table>\n",
              "</div>"
            ],
            "text/plain": [
              "   sqdist  label\n",
              "0   17.18      0\n",
              "1   17.11      0\n",
              "2   16.83      2\n",
              "3   18.25      5\n",
              "4   20.53      0"
            ]
          },
          "metadata": {
            "tags": []
          },
          "execution_count": 16
        }
      ]
    },
    {
      "cell_type": "code",
      "metadata": {
        "colab": {
          "base_uri": "https://localhost:8080/"
        },
        "id": "ia_QTqj3E95f",
        "outputId": "20ed7b7e-1e80-4b76-b3f0-027fd366f749"
      },
      "source": [
        "l = list(df['label'].unique())\n",
        "l.sort()\n",
        "print(l)\n",
        "\n",
        "list_2 = []\n",
        "\n",
        "for i in l: \n",
        "  sum_of_elements = df[df['label']== i]['sqdist'].sum()\n",
        "  no_items = len(df[df['label']== i])\n",
        "  boundary_mean = sum_of_elements/no_items\n",
        "  #print(i, boundary_mean)\n",
        "\n",
        "  df_boundary = df[df['label']== i]['sqdist']\n",
        "  \n",
        "  list_1 = [ i for i in df_boundary if i > boundary_mean ]\n",
        "  n = len(list_1)\n",
        "  list_2.append(n)\n",
        "\n",
        "n_outliers = sum(list_2)\n",
        "\n",
        "contamination = n_outliers / Total_Values\n",
        "print(contamination)"
      ],
      "execution_count": 17,
      "outputs": [
        {
          "output_type": "stream",
          "text": [
            "[0, 1, 2, 3, 4, 5, 6, 7]\n",
            "0.39473684210526316\n"
          ],
          "name": "stdout"
        }
      ]
    },
    {
      "cell_type": "code",
      "metadata": {
        "colab": {
          "base_uri": "https://localhost:8080/"
        },
        "id": "GNJMkYQLIHfj",
        "outputId": "00d57105-eeb3-4e48-f196-cd6b58be55e7"
      },
      "source": [
        "print(n_outliers)"
      ],
      "execution_count": 18,
      "outputs": [
        {
          "output_type": "stream",
          "text": [
            "135\n"
          ],
          "name": "stdout"
        }
      ]
    },
    {
      "cell_type": "code",
      "metadata": {
        "id": "6eujAf0kKJGN"
      },
      "source": [
        ""
      ],
      "execution_count": 18,
      "outputs": []
    }
  ]
}